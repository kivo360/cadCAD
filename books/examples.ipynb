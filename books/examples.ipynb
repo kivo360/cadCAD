{
 "cells": [
  {
   "cell_type": "code",
   "execution_count": 1,
   "metadata": {},
   "outputs": [],
   "source": [
    "from prima._imports import *\n",
    "from prima import init, ParitalState, Experiment\n",
    "from prima.engine import Executor, ExecutionMode, ExecutionContext\n",
    "import numpy as np"
   ]
  },
  {
   "cell_type": "code",
   "execution_count": 2,
   "metadata": {},
   "outputs": [],
   "source": [
    "seeds = {\n",
    "    \"z\": np.random.RandomState(1),\n",
    "    \"a\": np.random.RandomState(2),\n",
    "    \"b\": np.random.RandomState(3),\n",
    "    \"c\": np.random.RandomState(4),\n",
    "}"
   ]
  },
  {
   "cell_type": "code",
   "execution_count": 3,
   "metadata": {},
   "outputs": [],
   "source": [
    "class GenesisState(BaseModel):\n",
    "    hello: int = 1\n",
    "    state_1: float = 0.0\n",
    "    state_2: float = 0.0\n",
    "    state_3: float = 1.0\n",
    "    state_4: float = 1.0\n",
    "    \n",
    "    timestamp: str = \"2018-10-01 15:16:24\",\n",
    "    \n",
    "\n",
    "\n",
    "class ModelParams(BaseModel):\n",
    "    alpha: int = [1, 10]\n",
    "    beta: int = [2, 8]\n",
    "    gamma: int = [3, 8]\n",
    "    omega: int = [4, 2, 3]\n",
    "\n",
    "\n",
    "class SystemParams(BaseModel):\n",
    "    length: List[int] = Field([1], alias=\"T\")\n",
    "    run_count: int = Field(1, alias=\"N\")\n",
    "    model_params: ModelParams = Field(ModelParams(), alias=\"M\")\n",
    "\n",
    "    def dict(self, **kwargs) -> DictAny:\n",
    "        kwargs.update(dict(by_alias=True))\n",
    "        return super().dict(**kwargs)\n",
    "\n",
    "\n",
    "class PolicyVarSpace(BaseModel):\n",
    "    param1: Optional[List[int]] = list(range(4, 10))\n",
    "    param2: Optional[List[int]] = list(range(4, 10))\n",
    "\n",
    "    class Config:\n",
    "        Extra = Extra.allow\n"
   ]
  },
  {
   "cell_type": "code",
   "execution_count": 4,
   "metadata": {},
   "outputs": [],
   "source": [
    "model = init(GenesisState(), SystemParams(length=range(1)), PolicyVarSpace())\n",
    "model.model_id = \"sys_model_A\""
   ]
  },
  {
   "cell_type": "code",
   "execution_count": 5,
   "metadata": {},
   "outputs": [
    {
     "data": {
      "text/plain": [
       "[{'N': 1, 'T': [1], 'M': {'alpha': 1, 'beta': 2, 'gamma': 3, 'omega': 4}},\n",
       " {'N': 1, 'T': [1], 'M': {'alpha': 10, 'beta': 8, 'gamma': 8, 'omega': 2}},\n",
       " {'N': 1, 'T': [1], 'M': {'alpha': 10, 'beta': 8, 'gamma': 8, 'omega': 3}},\n",
       " {'N': 1, 'T': [1], 'M': {'alpha': 10, 'beta': 8, 'gamma': 8}}]"
      ]
     },
     "execution_count": 5,
     "metadata": {},
     "output_type": "execute_result"
    }
   ],
   "source": [
    "@model.transition(\"state_1\", \"state_change_1\")\n",
    "def state_change_1(\n",
    "    params: ModelParams,\n",
    "    substep: int,\n",
    "    history: List[GenesisState],\n",
    "    statespace: GenesisState,\n",
    "    aggregate: DictAny,\n",
    "    **kwargs,\n",
    ") -> Tuple[str, Any]:\n",
    "    statespace.state_1 += 1\n",
    "    return statespace.state_1\n",
    "\n",
    "\n",
    "@model.transition(\"state_2\", \"state_change_2\")\n",
    "def state_change_2(\n",
    "    params: ModelParams,\n",
    "    substep: int,\n",
    "    history: List[GenesisState],\n",
    "    statespace: GenesisState,\n",
    "    aggregate: DictAny,\n",
    "    **kwargs,\n",
    ") -> Tuple[str, Any]:\n",
    "    statespace.state_2 += 1\n",
    "    return statespace.state_2\n",
    "\n",
    "\n",
    "@model.transition(\"state_3\", \"state_change_3\")\n",
    "def state_change_3(\n",
    "    params: ModelParams,\n",
    "    substep: int,\n",
    "    history: List[GenesisState],\n",
    "    statespace: GenesisState,\n",
    "    aggregate: DictAny,\n",
    "    **kwargs,\n",
    ") -> Tuple[str, Any]:\n",
    "    statespace.state_3 += 1\n",
    "    return statespace.state_3\n",
    "\n",
    "@model.transition(\"state_4\", \"state_change_4\")\n",
    "def state_change_4(\n",
    "    params: ModelParams,\n",
    "    substep: int,\n",
    "    history: List[GenesisState],\n",
    "    statespace: GenesisState,\n",
    "    aggregate: DictAny,\n",
    "    **kwargs,\n",
    ") -> Tuple[str, Any]:\n",
    "    statespace.state_4 += 1\n",
    "    return statespace.state_4\n",
    "\n",
    "\n",
    "@model.transition(\"timestamp\", \"update_timestamp\")\n",
    "def update_timestamp(\n",
    "    params: ModelParams,\n",
    "    substep: int,\n",
    "    history: List[GenesisState],\n",
    "    statespace: GenesisState,\n",
    "    aggregate: DictAny,\n",
    "    **kwargs,\n",
    ") -> Tuple[str, Any]:\n",
    "    statespace.state_3 += 1\n",
    "    return statespace.state_3\n",
    "\n",
    "\n",
    "# conf = \n",
    "\n",
    "\n",
    "    # model.\n",
    "\n",
    "\n",
    "# conf\n",
    "# model.config\n",
    "model.simulation_config"
   ]
  },
  {
   "cell_type": "code",
   "execution_count": 6,
   "metadata": {},
   "outputs": [],
   "source": [
    "\n",
    "@model.policy(\"policy_1\", \"policy_1\")\n",
    "def policy_1(params: ModelParams, substep: int, history: List[GenesisState], prior_state: GenesisState) -> DictAny:\n",
    "    return {\"param1\": 1}\n",
    "\n",
    "@model.policy(\"policy_1\", \"policy_2\")\n",
    "def policy_2(params: ModelParams, substep: int, history: List[GenesisState], prior_state: GenesisState) -> DictAny:\n",
    "    return {\"param1\": 1, \"param2\": 4}\n",
    "\n",
    "\n",
    "@model.policy(\"policy_1\", \"policy_2_1\")\n",
    "def policy_2_1(params: ModelParams, substep: int, history: List[GenesisState], prior_state: GenesisState) -> DictAny:\n",
    "    return {\"param1\": \"a\", \"param2\": 2}\n",
    "\n",
    "\n",
    "@model.policy(\"policy_1\", \"policy_2_2\")\n",
    "def policy_2_2(params: ModelParams, substep: int, history: List[GenesisState], prior_state: GenesisState) -> DictAny:\n",
    "    return {\"param1\": \"b\", \"param2\": 4}\n",
    "\n",
    "\n",
    "@model.policy(\"policy_1\", \"policy_1_3\")\n",
    "def policy_1_3(params: ModelParams, substep: int, history: List[GenesisState], prior_state: GenesisState) -> DictAny:\n",
    "    return {\"param1\": [\"c\"], \"param2\": np.array([10, 100])}\n",
    "\n",
    "\n",
    "@model.policy(\"policy_1\", \"policy_2_3\")\n",
    "def policy_2_3(params: ModelParams, substep: int, history: List[GenesisState], prior_state: GenesisState) -> DictAny:\n",
    "    return {\"param1\": [\"d\"], \"param2\": np.array([20, 200])}\n",
    "\n"
   ]
  },
  {
   "cell_type": "code",
   "execution_count": 7,
   "metadata": {},
   "outputs": [],
   "source": [
    "proc_one_coef_A = 0.7\n",
    "proc_one_coef_B = 1.3\n",
    "\n",
    "def es3(_g, step, sH, s, _input):\n",
    "    y = \"s3\"\n",
    "    x = s[\"s3\"] * bound_norm_random(seeds[\"a\"], proc_one_coef_A, proc_one_coef_B)\n",
    "    return (y, x)\n",
    "\n",
    "\n",
    "def es4(_g, step, sH, s, _input):\n",
    "    y = \"s4\"\n",
    "    y = \"s4\"\n",
    "    x = s[\"s4\"] * bound_norm_random(seeds[\"b\"], proc_one_coef_A, proc_one_coef_B)\n",
    "    return (y, x)\n",
    "\n",
    "\n",
    "# def update_timestamp(_g, step, sH, s, _input):\n",
    "#     y = \"timestamp\"\n",
    "#     return y, time_step(\n",
    "#         dt_str=s[y],\n",
    "#         dt_format=\"%Y-%m-%d %H:%M:%S\",\n",
    "#         _timedelta=timedelta(days=0, minutes=0, seconds=1),\n",
    "#     )\n"
   ]
  },
  {
   "cell_type": "code",
   "execution_count": 8,
   "metadata": {},
   "outputs": [],
   "source": [
    "@model.transition(\"state_3\", \"edro_state_3\")\n",
    "def edro_state_3(\n",
    "    params: ModelParams,\n",
    "    substep: int,\n",
    "    history: List[GenesisState],\n",
    "    statespace: GenesisState,\n",
    "    aggregate: DictAny,\n",
    "    **kwargs,\n",
    ") -> Tuple[str, Any]:\n",
    "    statespace.state_3 = statespace.state_3 * bound_norm_random(seeds[\"a\"], proc_one_coef_A, proc_one_coef_B)\n",
    "    return statespace.state_3\n",
    "\n"
   ]
  },
  {
   "cell_type": "code",
   "execution_count": 9,
   "metadata": {},
   "outputs": [],
   "source": [
    "@model.transition(\"state_4\", \"edro_state_4\")\n",
    "def edro_state_4(\n",
    "    params: ModelParams,\n",
    "    substep: int,\n",
    "    history: List[GenesisState],\n",
    "    statespace: GenesisState,\n",
    "    aggregate: DictAny,\n",
    "    **kwargs,\n",
    ") -> Tuple[str, Any]:\n",
    "    statespace.state_4 = statespace.state_4 * bound_norm_random(seeds[\"c\"], proc_one_coef_A, proc_one_coef_B)\n",
    "    return statespace.state_4"
   ]
  },
  {
   "cell_type": "code",
   "execution_count": 10,
   "metadata": {},
   "outputs": [],
   "source": [
    "model.add_partial(part_state=ParitalState(\n",
    "        policies={\"b1\": policy_1, \"b2\": policy_2},\n",
    "        variables={\"state_1\": state_change_1, \n",
    "                   \"state_2\": state_change_2, \n",
    "                   \"state_3\": state_change_3, \n",
    "                   \"state_4\": state_change_4, \n",
    "                   \"timestamp\": update_timestamp\n",
    "                },\n",
    "    )\n",
    ")"
   ]
  },
  {
   "cell_type": "code",
   "execution_count": 11,
   "metadata": {},
   "outputs": [],
   "source": [
    "model.add_partial(part_state=ParitalState(\n",
    "        policies={\"b1\": policy_2_1, \"b2\": policy_2_2},\n",
    "        variables={\"state_1\": state_change_1, \n",
    "                   \"state_2\": state_change_2, \n",
    "                },\n",
    "    )\n",
    ")"
   ]
  },
  {
   "cell_type": "code",
   "execution_count": 12,
   "metadata": {},
   "outputs": [],
   "source": [
    "model.add_partial(part_state=ParitalState(\n",
    "        policies={\"b1\": policy_1_3, \"b2\": policy_2_3},\n",
    "        variables={\"state_1\": state_change_3, \n",
    "                   \"state_2\": state_change_4, \n",
    "                },\n",
    "    )\n",
    ")"
   ]
  },
  {
   "cell_type": "code",
   "execution_count": 13,
   "metadata": {},
   "outputs": [
    {
     "data": {
      "text/plain": [
       "[{'policies': {'b1': <function __main__.policy_1(params: __main__.ModelParams, substep: int, history: List[__main__.GenesisState], prior_state: __main__.GenesisState) -> Dict[str, Any]>,\n",
       "   'b2': <function __main__.policy_2(params: __main__.ModelParams, substep: int, history: List[__main__.GenesisState], prior_state: __main__.GenesisState) -> Dict[str, Any]>},\n",
       "  'variables': {'state_1': <function __main__.state_change_1(params: __main__.ModelParams, substep: int, history: List[__main__.GenesisState], statespace: __main__.GenesisState, aggregate: Dict[str, Any], **kwargs) -> Tuple[str, Any]>,\n",
       "   'state_2': <function __main__.state_change_2(params: __main__.ModelParams, substep: int, history: List[__main__.GenesisState], statespace: __main__.GenesisState, aggregate: Dict[str, Any], **kwargs) -> Tuple[str, Any]>,\n",
       "   'state_3': <function __main__.state_change_3(params: __main__.ModelParams, substep: int, history: List[__main__.GenesisState], statespace: __main__.GenesisState, aggregate: Dict[str, Any], **kwargs) -> Tuple[str, Any]>,\n",
       "   'state_4': <function __main__.state_change_4(params: __main__.ModelParams, substep: int, history: List[__main__.GenesisState], statespace: __main__.GenesisState, aggregate: Dict[str, Any], **kwargs) -> Tuple[str, Any]>,\n",
       "   'timestamp': <function __main__.update_timestamp(params: __main__.ModelParams, substep: int, history: List[__main__.GenesisState], statespace: __main__.GenesisState, aggregate: Dict[str, Any], **kwargs) -> Tuple[str, Any]>}},\n",
       " {'policies': {'b1': <function __main__.policy_2_1(params: __main__.ModelParams, substep: int, history: List[__main__.GenesisState], prior_state: __main__.GenesisState) -> Dict[str, Any]>,\n",
       "   'b2': <function __main__.policy_2_2(params: __main__.ModelParams, substep: int, history: List[__main__.GenesisState], prior_state: __main__.GenesisState) -> Dict[str, Any]>},\n",
       "  'variables': {'state_1': <function __main__.state_change_1(params: __main__.ModelParams, substep: int, history: List[__main__.GenesisState], statespace: __main__.GenesisState, aggregate: Dict[str, Any], **kwargs) -> Tuple[str, Any]>,\n",
       "   'state_2': <function __main__.state_change_2(params: __main__.ModelParams, substep: int, history: List[__main__.GenesisState], statespace: __main__.GenesisState, aggregate: Dict[str, Any], **kwargs) -> Tuple[str, Any]>}},\n",
       " {'policies': {'b1': <function __main__.policy_1_3(params: __main__.ModelParams, substep: int, history: List[__main__.GenesisState], prior_state: __main__.GenesisState) -> Dict[str, Any]>,\n",
       "   'b2': <function __main__.policy_2_3(params: __main__.ModelParams, substep: int, history: List[__main__.GenesisState], prior_state: __main__.GenesisState) -> Dict[str, Any]>},\n",
       "  'variables': {'state_1': <function __main__.state_change_3(params: __main__.ModelParams, substep: int, history: List[__main__.GenesisState], statespace: __main__.GenesisState, aggregate: Dict[str, Any], **kwargs) -> Tuple[str, Any]>,\n",
       "   'state_2': <function __main__.state_change_4(params: __main__.ModelParams, substep: int, history: List[__main__.GenesisState], statespace: __main__.GenesisState, aggregate: Dict[str, Any], **kwargs) -> Tuple[str, Any]>}}]"
      ]
     },
     "execution_count": 13,
     "metadata": {},
     "output_type": "execute_result"
    }
   ],
   "source": [
    "model.partials"
   ]
  },
  {
   "cell_type": "code",
   "execution_count": 14,
   "metadata": {},
   "outputs": [
    {
     "data": {
      "text/plain": [
       "{'model_id': 'sys_model_A',\n",
       " 'sim_configs': {'T': [1],\n",
       "  'N': 1,\n",
       "  'M': {'alpha': [1, 10],\n",
       "   'beta': [2, 8],\n",
       "   'gamma': [3, 8],\n",
       "   'omega': [4, 2, 3]}},\n",
       " 'initial_state': {'hello': 1,\n",
       "  'state_1': 0.0,\n",
       "  'state_2': 0.0,\n",
       "  'state_3': 1.0,\n",
       "  'state_4': 1.0,\n",
       "  'timestamp': ('2018-10-01 15:16:24',)},\n",
       " 'env_processes': {'s3': [<function prima.framework.Foundation.processes.<locals>.<lambda>(_g, x)>],\n",
       "  's4': <function prima.configuration.utils.env_trigger.<locals>.trigger.<locals>.env_update(state_dict, sweep_dict, target_value)>},\n",
       " 'partial_state_update_blocks': {'policies': 'variables'},\n",
       " 'policy_ops': [<function prima.framework.Foundation.get_model.<locals>.<lambda>(a, b)>]}"
      ]
     },
     "execution_count": 14,
     "metadata": {},
     "output_type": "execute_result"
    }
   ],
   "source": [
    "model.get_model()"
   ]
  },
  {
   "cell_type": "code",
   "execution_count": 15,
   "metadata": {},
   "outputs": [],
   "source": [
    "experiment = Experiment()"
   ]
  },
  {
   "cell_type": "code",
   "execution_count": 16,
   "metadata": {},
   "outputs": [],
   "source": [
    "experiment.append_model(**model.get_model())\n"
   ]
  },
  {
   "cell_type": "code",
   "execution_count": 17,
   "metadata": {},
   "outputs": [],
   "source": [
    "exec_mode = ExecutionMode()\n",
    "local_mode_ctx = ExecutionContext(context=exec_mode.single_mode)\n",
    "\n",
    "\n",
    "# %%\n",
    "from prima.engine import Executor\n",
    "\n",
    "simulation = Executor(exec_context=local_mode_ctx, configs=experiment.configs)"
   ]
  },
  {
   "cell_type": "code",
   "execution_count": 18,
   "metadata": {},
   "outputs": [
    {
     "name": "stdout",
     "output_type": "stream",
     "text": [
      "\n",
      "                  ___________    ____\n",
      "  ________ __ ___/ / ____/   |  / __ \\\n",
      " / ___/ __` / __  / /   / /| | / / / /\n",
      "/ /__/ /_/ / /_/ / /___/ ___ |/ /_/ /\n",
      "\\___/\\__,_/\\__,_/\\____/_/  |_/_____/\n",
      "by prima\n",
      "\n",
      "prima Version: 0.4.28\n",
      "Execution Mode: single_proc\n",
      "Simulation Dimensions:\n",
      "Entire Simulation: (Models, Unique Timesteps, Params, Total Runs, Sub-States) = (1, 1, 4, 1, 6)\n",
      "     Simulation 0: (Timesteps, Params, Runs, Sub-States) = (1, 4, 1, 6)\n"
     ]
    },
    {
     "ename": "TypeError",
     "evalue": "string indices must be integers",
     "output_type": "error",
     "traceback": [
      "\u001b[0;31m---------------------------------------------------------------------------\u001b[0m",
      "\u001b[0;31mTypeError\u001b[0m                                 Traceback (most recent call last)",
      "\u001b[1;32m/home/kanddie/Code/Crypto/cadcad/books/examples.ipynb Cell 18'\u001b[0m in \u001b[0;36m<module>\u001b[0;34m\u001b[0m\n\u001b[1;32m      <a href='vscode-notebook-cell:/home/kanddie/Code/Crypto/cadcad/books/examples.ipynb#ch0000016?line=0'>1</a>\u001b[0m \u001b[39m# %%\u001b[39;00m\n\u001b[0;32m----> <a href='vscode-notebook-cell:/home/kanddie/Code/Crypto/cadcad/books/examples.ipynb#ch0000016?line=1'>2</a>\u001b[0m raw_system_events, tensor_field, sessions \u001b[39m=\u001b[39m simulation\u001b[39m.\u001b[39;49mexecute()\n",
      "File \u001b[0;32m~/Code/Crypto/cadcad/prima/engine/__init__.py:144\u001b[0m, in \u001b[0;36mExecutor.execute\u001b[0;34m(self)\u001b[0m\n\u001b[1;32m    <a href='file:///~/Code/Crypto/cadcad/prima/engine/__init__.py?line=140'>141</a>\u001b[0m states_lists\u001b[39m.\u001b[39mappend([x\u001b[39m.\u001b[39minitial_state])\n\u001b[1;32m    <a href='file:///~/Code/Crypto/cadcad/prima/engine/__init__.py?line=141'>142</a>\u001b[0m eps\u001b[39m.\u001b[39mappend(\u001b[39mlist\u001b[39m(x\u001b[39m.\u001b[39mexogenous_states\u001b[39m.\u001b[39mvalues()))\n\u001b[1;32m    <a href='file:///~/Code/Crypto/cadcad/prima/engine/__init__.py?line=142'>143</a>\u001b[0m configs_structs\u001b[39m.\u001b[39mappend(\n\u001b[0;32m--> <a href='file:///~/Code/Crypto/cadcad/prima/engine/__init__.py?line=143'>144</a>\u001b[0m     config_proc\u001b[39m.\u001b[39;49mgenerate_config(\n\u001b[1;32m    <a href='file:///~/Code/Crypto/cadcad/prima/engine/__init__.py?line=144'>145</a>\u001b[0m         x\u001b[39m.\u001b[39;49minitial_state, x\u001b[39m.\u001b[39;49mpartial_state_update_blocks, eps[config_idx]\n\u001b[1;32m    <a href='file:///~/Code/Crypto/cadcad/prima/engine/__init__.py?line=145'>146</a>\u001b[0m     )\n\u001b[1;32m    <a href='file:///~/Code/Crypto/cadcad/prima/engine/__init__.py?line=146'>147</a>\u001b[0m )\n\u001b[1;32m    <a href='file:///~/Code/Crypto/cadcad/prima/engine/__init__.py?line=147'>148</a>\u001b[0m env_processes_list\u001b[39m.\u001b[39mappend(x\u001b[39m.\u001b[39menv_processes)\n\u001b[1;32m    <a href='file:///~/Code/Crypto/cadcad/prima/engine/__init__.py?line=148'>149</a>\u001b[0m partial_state_updates\u001b[39m.\u001b[39mappend(x\u001b[39m.\u001b[39mpartial_state_update_blocks)\n",
      "File \u001b[0;32m~/Code/Crypto/cadcad/prima/configuration/__init__.py:304\u001b[0m, in \u001b[0;36mProcessor.generate_config\u001b[0;34m(self, initial_state, partial_state_updates, exo_proc)\u001b[0m\n\u001b[1;32m    <a href='file:///~/Code/Crypto/cadcad/prima/configuration/__init__.py?line=297'>298</a>\u001b[0m \u001b[39mif\u001b[39;00m \u001b[39mlen\u001b[39m(partial_state_updates) \u001b[39m!=\u001b[39m \u001b[39m0\u001b[39m:\n\u001b[1;32m    <a href='file:///~/Code/Crypto/cadcad/prima/configuration/__init__.py?line=298'>299</a>\u001b[0m     \u001b[39m# backwards compatibility\u001b[39;00m\n\u001b[1;32m    <a href='file:///~/Code/Crypto/cadcad/prima/configuration/__init__.py?line=299'>300</a>\u001b[0m     partial_state_updates \u001b[39m=\u001b[39m sanitize_partial_state_updates(\n\u001b[1;32m    <a href='file:///~/Code/Crypto/cadcad/prima/configuration/__init__.py?line=300'>301</a>\u001b[0m         partial_state_updates\n\u001b[1;32m    <a href='file:///~/Code/Crypto/cadcad/prima/configuration/__init__.py?line=301'>302</a>\u001b[0m     )\n\u001b[0;32m--> <a href='file:///~/Code/Crypto/cadcad/prima/configuration/__init__.py?line=303'>304</a>\u001b[0m     bdf \u001b[39m=\u001b[39m \u001b[39mself\u001b[39;49m\u001b[39m.\u001b[39;49mcreate_matrix_field(partial_state_updates, \u001b[39m\"\u001b[39;49m\u001b[39mpolicies\u001b[39;49m\u001b[39m\"\u001b[39;49m)\n\u001b[1;32m    <a href='file:///~/Code/Crypto/cadcad/prima/configuration/__init__.py?line=304'>305</a>\u001b[0m     sdf \u001b[39m=\u001b[39m \u001b[39mself\u001b[39m\u001b[39m.\u001b[39mcreate_matrix_field(partial_state_updates, \u001b[39m\"\u001b[39m\u001b[39mvariables\u001b[39m\u001b[39m\"\u001b[39m)\n\u001b[1;32m    <a href='file:///~/Code/Crypto/cadcad/prima/configuration/__init__.py?line=305'>306</a>\u001b[0m     sdf_values, bdf_values \u001b[39m=\u001b[39m no_update_handler(bdf, sdf)\n",
      "File \u001b[0;32m~/Code/Crypto/cadcad/prima/configuration/__init__.py:259\u001b[0m, in \u001b[0;36mProcessor.create_matrix_field\u001b[0;34m(self, partial_state_updates, key)\u001b[0m\n\u001b[1;32m    <a href='file:///~/Code/Crypto/cadcad/prima/configuration/__init__.py?line=255'>256</a>\u001b[0m \u001b[39melif\u001b[39;00m key \u001b[39m==\u001b[39m \u001b[39m\"\u001b[39m\u001b[39mpolicies\u001b[39m\u001b[39m\"\u001b[39m:\n\u001b[1;32m    <a href='file:///~/Code/Crypto/cadcad/prima/configuration/__init__.py?line=256'>257</a>\u001b[0m     identity \u001b[39m=\u001b[39m \u001b[39mself\u001b[39m\u001b[39m.\u001b[39mpolicy_identity\n\u001b[0;32m--> <a href='file:///~/Code/Crypto/cadcad/prima/configuration/__init__.py?line=258'>259</a>\u001b[0m df \u001b[39m=\u001b[39m pd\u001b[39m.\u001b[39mDataFrame(key_filter(partial_state_updates, key))\n\u001b[1;32m    <a href='file:///~/Code/Crypto/cadcad/prima/configuration/__init__.py?line=259'>260</a>\u001b[0m filled_df \u001b[39m=\u001b[39m \u001b[39mself\u001b[39m\u001b[39m.\u001b[39mapply_identity_funcs(identity, df, \u001b[39mlist\u001b[39m(df\u001b[39m.\u001b[39mcolumns))\n\u001b[1;32m    <a href='file:///~/Code/Crypto/cadcad/prima/configuration/__init__.py?line=260'>261</a>\u001b[0m \u001b[39mif\u001b[39;00m \u001b[39mlen\u001b[39m(filled_df) \u001b[39m>\u001b[39m \u001b[39m0\u001b[39m:\n",
      "File \u001b[0;32m~/Code/Crypto/cadcad/prima/utils/__init__.py:127\u001b[0m, in \u001b[0;36mkey_filter\u001b[0;34m(l, keyname)\u001b[0m\n\u001b[1;32m    <a href='file:///~/Code/Crypto/cadcad/prima/utils/__init__.py?line=121'>122</a>\u001b[0m     \u001b[39m# Keeping support to dictionaries for backwards compatibility\u001b[39;00m\n\u001b[1;32m    <a href='file:///~/Code/Crypto/cadcad/prima/utils/__init__.py?line=122'>123</a>\u001b[0m     \u001b[39m# Should be removed in the future\u001b[39;00m\n\u001b[1;32m    <a href='file:///~/Code/Crypto/cadcad/prima/utils/__init__.py?line=123'>124</a>\u001b[0m warnings\u001b[39m.\u001b[39mwarn(\n\u001b[1;32m    <a href='file:///~/Code/Crypto/cadcad/prima/utils/__init__.py?line=124'>125</a>\u001b[0m     \u001b[39m\"\u001b[39m\u001b[39mThe use of a dictionary to describe Partial State Update Blocks will be deprecated. Use a list instead.\u001b[39m\u001b[39m\"\u001b[39m,\n\u001b[1;32m    <a href='file:///~/Code/Crypto/cadcad/prima/utils/__init__.py?line=125'>126</a>\u001b[0m     \u001b[39mFutureWarning\u001b[39;00m)\n\u001b[0;32m--> <a href='file:///~/Code/Crypto/cadcad/prima/utils/__init__.py?line=126'>127</a>\u001b[0m \u001b[39mreturn\u001b[39;00m [v[keyname] \u001b[39mfor\u001b[39;00m k, v \u001b[39min\u001b[39;00m l\u001b[39m.\u001b[39mitems()]\n",
      "File \u001b[0;32m~/Code/Crypto/cadcad/prima/utils/__init__.py:127\u001b[0m, in \u001b[0;36m<listcomp>\u001b[0;34m(.0)\u001b[0m\n\u001b[1;32m    <a href='file:///~/Code/Crypto/cadcad/prima/utils/__init__.py?line=121'>122</a>\u001b[0m     \u001b[39m# Keeping support to dictionaries for backwards compatibility\u001b[39;00m\n\u001b[1;32m    <a href='file:///~/Code/Crypto/cadcad/prima/utils/__init__.py?line=122'>123</a>\u001b[0m     \u001b[39m# Should be removed in the future\u001b[39;00m\n\u001b[1;32m    <a href='file:///~/Code/Crypto/cadcad/prima/utils/__init__.py?line=123'>124</a>\u001b[0m warnings\u001b[39m.\u001b[39mwarn(\n\u001b[1;32m    <a href='file:///~/Code/Crypto/cadcad/prima/utils/__init__.py?line=124'>125</a>\u001b[0m     \u001b[39m\"\u001b[39m\u001b[39mThe use of a dictionary to describe Partial State Update Blocks will be deprecated. Use a list instead.\u001b[39m\u001b[39m\"\u001b[39m,\n\u001b[1;32m    <a href='file:///~/Code/Crypto/cadcad/prima/utils/__init__.py?line=125'>126</a>\u001b[0m     \u001b[39mFutureWarning\u001b[39;00m)\n\u001b[0;32m--> <a href='file:///~/Code/Crypto/cadcad/prima/utils/__init__.py?line=126'>127</a>\u001b[0m \u001b[39mreturn\u001b[39;00m [v[keyname] \u001b[39mfor\u001b[39;00m k, v \u001b[39min\u001b[39;00m l\u001b[39m.\u001b[39mitems()]\n",
      "\u001b[0;31mTypeError\u001b[0m: string indices must be integers"
     ]
    }
   ],
   "source": [
    "# %%\n",
    "raw_system_events, tensor_field, sessions = simulation.execute()\n",
    "\n",
    "# simulation_result = pd.DataFrame(raw_system_events)\n"
   ]
  },
  {
   "cell_type": "code",
   "execution_count": null,
   "metadata": {},
   "outputs": [],
   "source": []
  }
 ],
 "metadata": {
  "interpreter": {
   "hash": "3d535983324b42535c2affe8054a425caebf5be3f6faff2f6b043e4cb2830d4d"
  },
  "kernelspec": {
   "display_name": "Python 3.9.9 ('prima-Hk89G0BA-py3.9')",
   "language": "python",
   "name": "python3"
  },
  "language_info": {
   "codemirror_mode": {
    "name": "ipython",
    "version": 3
   },
   "file_extension": ".py",
   "mimetype": "text/x-python",
   "name": "python",
   "nbconvert_exporter": "python",
   "pygments_lexer": "ipython3",
   "version": "3.9.9"
  },
  "orig_nbformat": 4
 },
 "nbformat": 4,
 "nbformat_minor": 2
}
